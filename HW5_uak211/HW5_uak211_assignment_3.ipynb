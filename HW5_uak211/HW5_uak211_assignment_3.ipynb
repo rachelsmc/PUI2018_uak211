{
 "cells": [
  {
   "cell_type": "markdown",
   "metadata": {
    "run_control": {
     "frozen": false,
     "read_only": false
    }
   },
   "source": [
    "\n",
    "August 2015  \n",
    "Modified September 2017, October 2018\n",
    "\n",
    "Author: FBB\n",
    "\n",
    "** reproduce the result in **\n",
    "http://www.mdrc.org/sites/default/files/What%20Strategies%20Work%20for%20the%20Hard%20FR.pdf "
   ]
  },
  {
   "cell_type": "code",
   "execution_count": 1,
   "metadata": {
    "ExecuteTime": {
     "end_time": "2018-10-03T03:56:25.982146Z",
     "start_time": "2018-10-03T03:56:24.071017Z"
    },
    "run_control": {
     "frozen": false,
     "read_only": false
    }
   },
   "outputs": [],
   "source": [
    "from __future__ import print_function, division\n",
    "__author__ = 'uak211'\n",
    "import numpy as np"
   ]
  },
  {
   "cell_type": "markdown",
   "metadata": {},
   "source": [
    "### data on those who were ever employed in a CEO job\n",
    "\n",
    "null hypothesis: the % of former prisoners employed after release is the same or lower for candidates who participated in the program as for the control group, significance level p = 0.05\n",
    "\n",
    "$H_0: P_0 - P_1 \\geq$ 0 \n",
    "    \n",
    "$H_a: P_0 - P_1 $< 0    \n",
    "    \n",
    "    \n",
    " $\\alpha$ = 0.05    \n",
    "\n",
    "this is a TEST OF PROPORTIONS. we use the Binomial distribution since it is a yes/no (bernulli) test for each subject: the former inmate was or was not ever employed in a CEO transitional job: \n",
    "\n",
    "** $P_0=0.035, P_1=0.701$**"
   ]
  },
  {
   "cell_type": "markdown",
   "metadata": {},
   "source": [
    "#### z-score"
   ]
  },
  {
   "cell_type": "code",
   "execution_count": 2,
   "metadata": {},
   "outputs": [
    {
     "name": "stdout",
     "output_type": "stream",
     "text": [
      "we must assess the statistical significance\n",
      "z-score:  20.7697865408\n"
     ]
    }
   ],
   "source": [
    "### from Dr. Bianco's homework notebook ###\n",
    "\n",
    "# first thing: choose your significance threshold\n",
    "alpha = 0.05\n",
    "# we like fractions better then percentages. as a rule of thumb, either use fractions or counts. \n",
    "# 0 for control group, 1 for program group\n",
    "\n",
    "P_0 = 3.5 * 0.01 \n",
    "P_1 = 70.1 * 0.01\n",
    "\n",
    "if P_0 - P_1 >= 0:\n",
    "    # we are done\n",
    "    print (\"the Null holds\")\n",
    "else:\n",
    "    print (\"we must assess the statistical significance\")\n",
    "\n",
    "#sample sizes \n",
    "\n",
    "n_0 = 409\n",
    "n_1 = 564\n",
    "    \n",
    "#lets get the counts by multiplying by the sample size\n",
    "\n",
    "Nt_0 = P_0 * n_0\n",
    "Nt_1 = P_1 * n_1\n",
    "\n",
    "p = lambda p0, p1, n0, n1: (p0 * n0 + p1 * n1) / (n0 + n1)\n",
    "# standard error\n",
    "se = lambda p, n0, n1: np.sqrt(p * (1 - p) * (1.0 / n0 + 1.0 / n1)) \n",
    "\n",
    "zscore = lambda p0, p1, s : (p0 - p1) / s\n",
    "z_2y = zscore(P_1, P_0, se(p(P_0, P_1, n_0, n_1), n_0, n_1))\n",
    "print ('z-score: ', z_2y)"
   ]
  },
  {
   "cell_type": "code",
   "execution_count": 3,
   "metadata": {},
   "outputs": [
    {
     "name": "stdout",
     "output_type": "stream",
     "text": [
      "is the p value 0.00 smaller than the critical value 0.05?\n",
      "YES!\n",
      "the Null hypothesis is rejected\n"
     ]
    }
   ],
   "source": [
    "# function copied from Dr. Bianco's homework repo \n",
    "# p-value for testing null hypothesis\n",
    "p_2y = 1 - 0.9984\n",
    "\n",
    "\n",
    "def report_result(p,a):\n",
    "    print ('is the p value ' + \n",
    "           '{0:.2f} smaller than the critical value {1:.2f}?'.format(p,a))\n",
    "    if p < a:\n",
    "        print (\"YES!\")\n",
    "    else: \n",
    "        print (\"NO!\")\n",
    "    \n",
    "    print ('the Null hypothesis is {}'.format(\\\n",
    "                            'rejected' if p < a  else 'not rejected') )\n",
    "\n",
    "    \n",
    "report_result(p_2y, alpha)"
   ]
  },
  {
   "cell_type": "markdown",
   "metadata": {},
   "source": [
    "#### $\\chi^2$ test of proportions"
   ]
  },
  {
   "cell_type": "code",
   "execution_count": 4,
   "metadata": {},
   "outputs": [],
   "source": [
    "# function copied from Dr. Bianco's homework repo\n",
    "def evalChisq(values):\n",
    "    '''Evaluates the chi sq from a contingency value\n",
    "    Arguments:\n",
    "    values: 2x2 array or list, the contingengy table\n",
    "    '''\n",
    "    if not (len(values.shape) == 2 and values.shape == (2,2)):\n",
    "        print (\"must pass a 2D array\")\n",
    "        return -1\n",
    "    values = np.array(values)\n",
    "    E = np.empty_like(values)\n",
    "    for j in range(len(values[0])):\n",
    "        for i in range(2):\n",
    "            \n",
    "            E[i][j] = ((values[i,:].sum() * values[:,j].sum()) / \n",
    "                        (values).sum())\n",
    "    return ((values - E)**2 / E).sum()"
   ]
  },
  {
   "cell_type": "code",
   "execution_count": 5,
   "metadata": {},
   "outputs": [
    {
     "name": "stdout",
     "output_type": "stream",
     "text": [
      "436.223462575\n"
     ]
    }
   ],
   "source": [
    "Ntot = 973 # a + b + c + d = tot\n",
    "\n",
    "sample_values = np.array([[0.701 * 564, 0.299 * 564], [0.0305 * 409, 0.965 * 409]])\n",
    "\n",
    "print (evalChisq(sample_values))"
   ]
  },
  {
   "cell_type": "markdown",
   "metadata": {},
   "source": [
    "\n",
    "|employed in a subsidized job |  emplopyed   |not employed |        total             \n",
    "|-----------------------------|--------------|-------------|----------------|\n",
    "| test sample                 |0.701 * 564   | 0.299 * 564 |      564       |\n",
    "| control sample              |0.0305 * 409  | 0.965 * 409 |      409       |\n",
    "|                             |              |             |                |\n",
    "| total                       |  407.839     |  563.321    |      973       |"
   ]
  },
  {
   "cell_type": "markdown",
   "metadata": {},
   "source": [
    "Degrees of freedom: (nrow - 1)(ncol - 1)  = 1 * 1  = 1\n",
    "\n",
    "Using the standard $\\chi^2$ distribution table with degrees of freedom = 1 and $\\alpha$ = 0.05, the $\\chi^2$ critical value is 3.84. Because the calculated $\\chi^2$ value is 436.22, which is more than 3.84, the difference in the two proportions is  significant and we **can** reject the null hypothesis."
   ]
  },
  {
   "cell_type": "markdown",
   "metadata": {
    "run_control": {
     "frozen": false,
     "read_only": false
    }
   },
   "source": [
    "### data on those convicted of a felony\n",
    "\n",
    "null hypothesis:\n",
    "the percentage of former prisoners convicted of a felony employed after release is the same or lower for candidates who participated in the program as for the control group, with $\\alpha$ = 0.05\n",
    " \n",
    "$H_0$: $P_0 - P_1 >= 0$ \n",
    " \n",
    "$H_a$: $P_0 - P_1 < 0$\n",
    "\n",
    "significance level: $\\alpha$ = 0.05\n",
    "\n",
    "\n",
    "\n",
    "$P_0$ = 0.117 (control group)\n",
    "\n",
    "$P_1$ = 0.10 (program group)\n"
   ]
  },
  {
   "cell_type": "markdown",
   "metadata": {},
   "source": [
    "#### z-score"
   ]
  },
  {
   "cell_type": "code",
   "execution_count": 6,
   "metadata": {},
   "outputs": [
    {
     "name": "stdout",
     "output_type": "stream",
     "text": [
      "the Null holds\n",
      "z-score:  0.84764020522\n"
     ]
    }
   ],
   "source": [
    "p0 = 11.7 * 0.01 # percentage of control group convicted of felony\n",
    "p1 = 10.0 * 0.01 # percentage of program group convicted of felony\n",
    "\n",
    "if p0 - p1 >= 0:\n",
    "    print (\"the Null holds\")\n",
    "else:\n",
    "    print (\"we must assess the statistical significance\")\n",
    "\n",
    "# calculating z-score anyways\n",
    "n0 = 409\n",
    "n1 = 568\n",
    "\n",
    "p = lambda p0, p1, n0, n1: (p0 * n0 + p1 * n1) / (n0 + n1)\n",
    "# standard error\n",
    "se = lambda p, n0, n1: np.sqrt(p * (1 - p) * (1.0 / n0 + 1.0 / n1))\n",
    "zscore = lambda p0, p1, s : (p0 - p1) / s\n",
    "\n",
    "# z-score \n",
    "z_3y = zscore(p1, p0, se(p(p0, p1, n0, n1), n0, n1))\n",
    "print ('z-score: ', abs(z_3y))"
   ]
  },
  {
   "cell_type": "code",
   "execution_count": 7,
   "metadata": {
    "scrolled": true
   },
   "outputs": [
    {
     "name": "stdout",
     "output_type": "stream",
     "text": [
      "is the p value 0.20 smaller than the critical value 0.05?\n",
      "NO!\n",
      "the Null hypothesis is not rejected\n"
     ]
    }
   ],
   "source": [
    "p_3y = 1 - 0.7995 # for value at table row = 0.8, table col = 0.04\n",
    "\n",
    "report_result(p_3y, alpha)"
   ]
  },
  {
   "cell_type": "markdown",
   "metadata": {
    "run_control": {
     "frozen": false,
     "read_only": false
    }
   },
   "source": [
    "#### $\\chi^2$ test of proportions"
   ]
  },
  {
   "cell_type": "code",
   "execution_count": 8,
   "metadata": {
    "ExecuteTime": {
     "end_time": "2018-10-03T03:56:28.927003Z",
     "start_time": "2018-10-03T03:56:28.902307Z"
    },
    "run_control": {
     "frozen": false,
     "read_only": false
    }
   },
   "outputs": [
    {
     "name": "stdout",
     "output_type": "stream",
     "text": [
      "0.718493917505\n"
     ]
    }
   ],
   "source": [
    "n_total = 568 + 409\n",
    "sample_values = np.array([[0.100 * 568, 0.90 * 568], [0.117 * 409, 0.883 * 409]])\n",
    "print (evalChisq(sample_values))"
   ]
  },
  {
   "cell_type": "markdown",
   "metadata": {
    "run_control": {
     "frozen": false,
     "read_only": false
    }
   },
   "source": [
    "#### contingency table"
   ]
  },
  {
   "cell_type": "markdown",
   "metadata": {
    "run_control": {
     "frozen": false,
     "read_only": false
    }
   },
   "source": [
    "\n",
    "|convicted of a felony      |     yes      |    no       |        total             \n",
    "|---------------------------|--------------|-------------|----------------|\n",
    "| test sample               |0.1 * 568     | 0.9 * 568   |      568       |\n",
    "| control sample            |0.117 * 409   | 0.883 * 409 |      409       |\n",
    "|                           |              |             |                |\n",
    "| total                     | 104.653      | 872.347     |       977      |"
   ]
  },
  {
   "cell_type": "markdown",
   "metadata": {},
   "source": [
    "Degrees of freedom: (nrow - 1)(ncol - 1)  = 1 * 1  = 1\n",
    "\n",
    "Using the standard $\\chi^2$ distribution table with degrees of freedom = 1 and $\\alpha$ = 0.05, the $\\chi^2$ critical value is 3.84. Because the calculated $\\chi^2$ value is 0.718, which is less than 3.84, the difference in the two proportions is not significant and we **cannot** reject the null hypothesis."
   ]
  },
  {
   "cell_type": "code",
   "execution_count": null,
   "metadata": {},
   "outputs": [],
   "source": []
  }
 ],
 "metadata": {
  "anaconda-cloud": {},
  "kernelspec": {
   "display_name": "PUI2016_Python3",
   "language": "python",
   "name": "pui2016_python3"
  },
  "language_info": {
   "codemirror_mode": {
    "name": "ipython",
    "version": 3
   },
   "file_extension": ".py",
   "mimetype": "text/x-python",
   "name": "python",
   "nbconvert_exporter": "python",
   "pygments_lexer": "ipython3",
   "version": "3.5.4"
  },
  "latex_envs": {
   "LaTeX_envs_menu_present": true,
   "bibliofile": "biblio.bib",
   "cite_by": "apalike",
   "current_citInitial": 1,
   "eqLabelWithNumbers": true,
   "eqNumInitial": 1,
   "hotkeys": {
    "equation": "Ctrl-E",
    "itemize": "Ctrl-I"
   },
   "labels_anchors": false,
   "latex_user_defs": false,
   "report_style_numbering": false,
   "user_envs_cfg": false
  },
  "toc": {
   "colors": {
    "hover_highlight": "#DAA520",
    "running_highlight": "#FF0000",
    "selected_highlight": "#FFD700"
   },
   "moveMenuLeft": true,
   "nav_menu": {
    "height": "513px",
    "width": "251px"
   },
   "navigate_menu": true,
   "number_sections": true,
   "sideBar": true,
   "threshold": 4,
   "toc_cell": false,
   "toc_section_display": "block",
   "toc_window_display": false
  }
 },
 "nbformat": 4,
 "nbformat_minor": 1
}
