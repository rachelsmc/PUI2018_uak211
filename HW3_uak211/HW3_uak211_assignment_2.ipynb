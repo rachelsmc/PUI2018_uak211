{
 "cells": [
  {
   "cell_type": "code",
   "execution_count": 1,
   "metadata": {},
   "outputs": [
    {
     "name": "stdout",
     "output_type": "stream",
     "text": [
      "Populating the interactive namespace from numpy and matplotlib\n"
     ]
    }
   ],
   "source": [
    "from __future__ import print_function\n",
    "import os\n",
    "import pandas as pd\n",
    "%pylab inline"
   ]
  },
  {
   "cell_type": "markdown",
   "metadata": {},
   "source": [
    "#### Here I download the CSV and store it in PUIdata using the environmental variable"
   ]
  },
  {
   "cell_type": "code",
   "execution_count": 2,
   "metadata": {},
   "outputs": [
    {
     "name": "stdout",
     "output_type": "stream",
     "text": [
      "  % Total    % Received % Xferd  Average Speed   Time    Time     Time  Current\n",
      "                                 Dload  Upload   Total   Spent    Left  Speed\n",
      "100 41414    0 41414    0     0   199k      0 --:--:-- --:--:-- --:--:--  200k\n"
     ]
    }
   ],
   "source": [
    "!curl https://data.cityofnewyork.us/api/views/ebb7-mvp5/rows.csv?accessType=DOWNLOAD > garbage.csv"
   ]
  },
  {
   "cell_type": "code",
   "execution_count": 3,
   "metadata": {},
   "outputs": [
    {
     "name": "stdout",
     "output_type": "stream",
     "text": [
      "puidata: /nfshome/uak211/PUIdata\n"
     ]
    }
   ],
   "source": [
    "os.environ['PUIDATA'] = '%s/PUIdata'%os.getenv('HOME')\n",
    "print('puidata:', os.getenv('PUIDATA'))"
   ]
  },
  {
   "cell_type": "code",
   "execution_count": 4,
   "metadata": {},
   "outputs": [],
   "source": [
    "!mv garbage.csv $PUIDATA"
   ]
  },
  {
   "cell_type": "code",
   "execution_count": 5,
   "metadata": {},
   "outputs": [
    {
     "name": "stdout",
     "output_type": "stream",
     "text": [
      "garbage.csv\n"
     ]
    }
   ],
   "source": [
    "!ls $PUIDATA"
   ]
  },
  {
   "cell_type": "markdown",
   "metadata": {},
   "source": [
    "#### Here I show the unreduced dataset"
   ]
  },
  {
   "cell_type": "code",
   "execution_count": 6,
   "metadata": {},
   "outputs": [
    {
     "data": {
      "text/html": [
       "<div>\n",
       "<table border=\"1\" class=\"dataframe\">\n",
       "  <thead>\n",
       "    <tr style=\"text-align: right;\">\n",
       "      <th></th>\n",
       "      <th>MONTH</th>\n",
       "      <th>BOROUGH</th>\n",
       "      <th>COMMUNITYDISTRICT</th>\n",
       "      <th>REFUSETONSCOLLECTED</th>\n",
       "      <th>PAPERTONSCOLLECTED</th>\n",
       "      <th>MGPTONSCOLLECTED</th>\n",
       "      <th>RESORGANICSTONS</th>\n",
       "      <th>SCHOOLORGANICTONS</th>\n",
       "      <th>LEAVESORGANICTONS</th>\n",
       "      <th>XMASTREETONS</th>\n",
       "      <th>BOROUGH_ID</th>\n",
       "    </tr>\n",
       "  </thead>\n",
       "  <tbody>\n",
       "    <tr>\n",
       "      <th>0</th>\n",
       "      <td>2017 / 08</td>\n",
       "      <td>Manhattan</td>\n",
       "      <td>7</td>\n",
       "      <td>4754.7</td>\n",
       "      <td>997.3</td>\n",
       "      <td>720.0</td>\n",
       "      <td>19.4</td>\n",
       "      <td>NaN</td>\n",
       "      <td>NaN</td>\n",
       "      <td>NaN</td>\n",
       "      <td>1</td>\n",
       "    </tr>\n",
       "    <tr>\n",
       "      <th>1</th>\n",
       "      <td>2017 / 08</td>\n",
       "      <td>Manhattan</td>\n",
       "      <td>12</td>\n",
       "      <td>4996.5</td>\n",
       "      <td>494.5</td>\n",
       "      <td>530.3</td>\n",
       "      <td>NaN</td>\n",
       "      <td>NaN</td>\n",
       "      <td>NaN</td>\n",
       "      <td>NaN</td>\n",
       "      <td>1</td>\n",
       "    </tr>\n",
       "    <tr>\n",
       "      <th>2</th>\n",
       "      <td>2017 / 08</td>\n",
       "      <td>Queens</td>\n",
       "      <td>8</td>\n",
       "      <td>3805.1</td>\n",
       "      <td>461.0</td>\n",
       "      <td>412.8</td>\n",
       "      <td>NaN</td>\n",
       "      <td>NaN</td>\n",
       "      <td>NaN</td>\n",
       "      <td>NaN</td>\n",
       "      <td>4</td>\n",
       "    </tr>\n",
       "    <tr>\n",
       "      <th>3</th>\n",
       "      <td>2017 / 08</td>\n",
       "      <td>Brooklyn</td>\n",
       "      <td>18</td>\n",
       "      <td>5907.8</td>\n",
       "      <td>584.1</td>\n",
       "      <td>599.3</td>\n",
       "      <td>NaN</td>\n",
       "      <td>NaN</td>\n",
       "      <td>NaN</td>\n",
       "      <td>NaN</td>\n",
       "      <td>3</td>\n",
       "    </tr>\n",
       "    <tr>\n",
       "      <th>4</th>\n",
       "      <td>2017 / 08</td>\n",
       "      <td>Queens</td>\n",
       "      <td>5</td>\n",
       "      <td>4827.9</td>\n",
       "      <td>597.6</td>\n",
       "      <td>758.9</td>\n",
       "      <td>185.3</td>\n",
       "      <td>NaN</td>\n",
       "      <td>NaN</td>\n",
       "      <td>NaN</td>\n",
       "      <td>4</td>\n",
       "    </tr>\n",
       "    <tr>\n",
       "      <th>5</th>\n",
       "      <td>2017 / 08</td>\n",
       "      <td>Bronx</td>\n",
       "      <td>9</td>\n",
       "      <td>4003.6</td>\n",
       "      <td>215.7</td>\n",
       "      <td>335.8</td>\n",
       "      <td>NaN</td>\n",
       "      <td>NaN</td>\n",
       "      <td>NaN</td>\n",
       "      <td>NaN</td>\n",
       "      <td>2</td>\n",
       "    </tr>\n",
       "    <tr>\n",
       "      <th>6</th>\n",
       "      <td>2017 / 08</td>\n",
       "      <td>Brooklyn</td>\n",
       "      <td>2</td>\n",
       "      <td>2448.5</td>\n",
       "      <td>544.3</td>\n",
       "      <td>360.0</td>\n",
       "      <td>53.5</td>\n",
       "      <td>NaN</td>\n",
       "      <td>NaN</td>\n",
       "      <td>NaN</td>\n",
       "      <td>3</td>\n",
       "    </tr>\n",
       "  </tbody>\n",
       "</table>\n",
       "</div>"
      ],
      "text/plain": [
       "       MONTH    BOROUGH  COMMUNITYDISTRICT  REFUSETONSCOLLECTED  \\\n",
       "0  2017 / 08  Manhattan                  7               4754.7   \n",
       "1  2017 / 08  Manhattan                 12               4996.5   \n",
       "2  2017 / 08     Queens                  8               3805.1   \n",
       "3  2017 / 08   Brooklyn                 18               5907.8   \n",
       "4  2017 / 08     Queens                  5               4827.9   \n",
       "5  2017 / 08      Bronx                  9               4003.6   \n",
       "6  2017 / 08   Brooklyn                  2               2448.5   \n",
       "\n",
       "   PAPERTONSCOLLECTED  MGPTONSCOLLECTED  RESORGANICSTONS  SCHOOLORGANICTONS  \\\n",
       "0               997.3             720.0             19.4                NaN   \n",
       "1               494.5             530.3              NaN                NaN   \n",
       "2               461.0             412.8              NaN                NaN   \n",
       "3               584.1             599.3              NaN                NaN   \n",
       "4               597.6             758.9            185.3                NaN   \n",
       "5               215.7             335.8              NaN                NaN   \n",
       "6               544.3             360.0             53.5                NaN   \n",
       "\n",
       "   LEAVESORGANICTONS  XMASTREETONS  BOROUGH_ID  \n",
       "0                NaN           NaN           1  \n",
       "1                NaN           NaN           1  \n",
       "2                NaN           NaN           4  \n",
       "3                NaN           NaN           3  \n",
       "4                NaN           NaN           4  \n",
       "5                NaN           NaN           2  \n",
       "6                NaN           NaN           3  "
      ]
     },
     "execution_count": 6,
     "metadata": {},
     "output_type": "execute_result"
    }
   ],
   "source": [
    "garbage = pd.read_csv('%s/garbage.csv'%os.getenv('PUIDATA'))\n",
    "garbage.head(7)"
   ]
  },
  {
   "cell_type": "code",
   "execution_count": 7,
   "metadata": {},
   "outputs": [
    {
     "data": {
      "text/plain": [
       "Index(['MONTH', 'BOROUGH', 'COMMUNITYDISTRICT', 'REFUSETONSCOLLECTED',\n",
       "       'PAPERTONSCOLLECTED', 'MGPTONSCOLLECTED', 'RESORGANICSTONS',\n",
       "       'SCHOOLORGANICTONS', 'LEAVESORGANICTONS', 'XMASTREETONS', 'BOROUGH_ID'],\n",
       "      dtype='object')"
      ]
     },
     "execution_count": 7,
     "metadata": {},
     "output_type": "execute_result"
    }
   ],
   "source": [
    "garbage.columns"
   ]
  },
  {
   "cell_type": "code",
   "execution_count": 8,
   "metadata": {},
   "outputs": [
    {
     "data": {
      "text/plain": [
       "9086"
      ]
     },
     "execution_count": 8,
     "metadata": {},
     "output_type": "execute_result"
    }
   ],
   "source": [
    "garbage.size"
   ]
  },
  {
   "cell_type": "markdown",
   "metadata": {},
   "source": [
    "#### Here I isolate two numeric variables in the dataset and show the last five rows of the reduced dataset"
   ]
  },
  {
   "cell_type": "code",
   "execution_count": 9,
   "metadata": {},
   "outputs": [
    {
     "data": {
      "text/html": [
       "<div>\n",
       "<table border=\"1\" class=\"dataframe\">\n",
       "  <thead>\n",
       "    <tr style=\"text-align: right;\">\n",
       "      <th></th>\n",
       "      <th>REFUSETONSCOLLECTED</th>\n",
       "      <th>MGPTONSCOLLECTED</th>\n",
       "    </tr>\n",
       "  </thead>\n",
       "  <tbody>\n",
       "    <tr>\n",
       "      <th>0</th>\n",
       "      <td>4754.7</td>\n",
       "      <td>720.0</td>\n",
       "    </tr>\n",
       "    <tr>\n",
       "      <th>1</th>\n",
       "      <td>4996.5</td>\n",
       "      <td>530.3</td>\n",
       "    </tr>\n",
       "    <tr>\n",
       "      <th>2</th>\n",
       "      <td>3805.1</td>\n",
       "      <td>412.8</td>\n",
       "    </tr>\n",
       "    <tr>\n",
       "      <th>3</th>\n",
       "      <td>5907.8</td>\n",
       "      <td>599.3</td>\n",
       "    </tr>\n",
       "    <tr>\n",
       "      <th>4</th>\n",
       "      <td>4827.9</td>\n",
       "      <td>758.9</td>\n",
       "    </tr>\n",
       "  </tbody>\n",
       "</table>\n",
       "</div>"
      ],
      "text/plain": [
       "   REFUSETONSCOLLECTED  MGPTONSCOLLECTED\n",
       "0               4754.7             720.0\n",
       "1               4996.5             530.3\n",
       "2               3805.1             412.8\n",
       "3               5907.8             599.3\n",
       "4               4827.9             758.9"
      ]
     },
     "execution_count": 9,
     "metadata": {},
     "output_type": "execute_result"
    }
   ],
   "source": [
    "two_cols = garbage[['REFUSETONSCOLLECTED', 'MGPTONSCOLLECTED']]\n",
    "two_cols.head()"
   ]
  },
  {
   "cell_type": "markdown",
   "metadata": {},
   "source": [
    "#### Plotting the two variables using the df.plot() function"
   ]
  },
  {
   "cell_type": "code",
   "execution_count": 10,
   "metadata": {},
   "outputs": [
    {
     "data": {
      "text/plain": [
       "[Text(0,0.5,'monthly recyclables tonnage'),\n",
       " Text(0.5,0,'monthly refuse tonnage'),\n",
       " Text(0.5,1,'Fig. 1: monthly recyclcables tonnage plotted against monthly refuse tonnage \\n for NYC community districts from 8/2017 to 9/2018')]"
      ]
     },
     "execution_count": 10,
     "metadata": {},
     "output_type": "execute_result"
    },
    {
     "data": {
      "image/png": "[encoded data removed]",
      "text/plain": [
       "<matplotlib.figure.Figure at 0x7f8d8e301940>"
      ]
     },
     "metadata": {},
     "output_type": "display_data"
    }
   ],
   "source": [
    "ax = two_cols.plot('REFUSETONSCOLLECTED', 'MGPTONSCOLLECTED', kind = 'scatter', figsize = (12, 12))\n",
    "ax.set(xlabel = 'monthly refuse tonnage', ylabel ='monthly recyclables tonnage',\n",
    "       title = 'Fig. 1: monthly recyclcables tonnage plotted against monthly refuse tonnage \\n for NYC community districts from 8/2017 to 9/2018')"
   ]
  },
  {
   "cell_type": "markdown",
   "metadata": {},
   "source": [
    "Fig. 1: number of tons of source-separated recyclables collected monthly per NYC community district plotted against number of tons of refuse collected monthly per NYC community district. The data show a strong positive correlation between amounts collected although refuse tonnage is approximately ten times the amount of recyclable tonnage.   "
   ]
  },
  {
   "cell_type": "markdown",
   "metadata": {},
   "source": [
    "### Pulling NYC garbage tonnage data via the SODA API and plotting the aggregated data"
   ]
  },
  {
   "cell_type": "code",
   "execution_count": 11,
   "metadata": {},
   "outputs": [],
   "source": [
    "url = 'https://data.cityofnewyork.us/resource/8bkb-pvci.json'\n",
    "soda_garbage = pd.read_json(url)"
   ]
  },
  {
   "cell_type": "code",
   "execution_count": 12,
   "metadata": {},
   "outputs": [
    {
     "data": {
      "text/html": [
       "<div>\n",
       "<table border=\"1\" class=\"dataframe\">\n",
       "  <thead>\n",
       "    <tr style=\"text-align: right;\">\n",
       "      <th></th>\n",
       "      <th>borough</th>\n",
       "      <th>borough_id</th>\n",
       "      <th>communitydistrict</th>\n",
       "      <th>leavesorganictons</th>\n",
       "      <th>mgptonscollected</th>\n",
       "      <th>month</th>\n",
       "      <th>papertonscollected</th>\n",
       "      <th>refusetonscollected</th>\n",
       "      <th>resorganicstons</th>\n",
       "      <th>schoolorganictons</th>\n",
       "      <th>xmastreetons</th>\n",
       "    </tr>\n",
       "  </thead>\n",
       "  <tbody>\n",
       "    <tr>\n",
       "      <th>0</th>\n",
       "      <td>Queens</td>\n",
       "      <td>4</td>\n",
       "      <td>4</td>\n",
       "      <td>5.07</td>\n",
       "      <td>394.00</td>\n",
       "      <td>2017 / 11</td>\n",
       "      <td>349.78</td>\n",
       "      <td>3997.15</td>\n",
       "      <td>NaN</td>\n",
       "      <td>NaN</td>\n",
       "      <td>NaN</td>\n",
       "    </tr>\n",
       "    <tr>\n",
       "      <th>1</th>\n",
       "      <td>Queens</td>\n",
       "      <td>4</td>\n",
       "      <td>11</td>\n",
       "      <td>NaN</td>\n",
       "      <td>396.53</td>\n",
       "      <td>2017 / 10</td>\n",
       "      <td>483.03</td>\n",
       "      <td>2691.88</td>\n",
       "      <td>236.41</td>\n",
       "      <td>NaN</td>\n",
       "      <td>NaN</td>\n",
       "    </tr>\n",
       "    <tr>\n",
       "      <th>2</th>\n",
       "      <td>Queens</td>\n",
       "      <td>4</td>\n",
       "      <td>7</td>\n",
       "      <td>NaN</td>\n",
       "      <td>694.62</td>\n",
       "      <td>2017 / 08</td>\n",
       "      <td>808.68</td>\n",
       "      <td>7058.92</td>\n",
       "      <td>NaN</td>\n",
       "      <td>NaN</td>\n",
       "      <td>NaN</td>\n",
       "    </tr>\n",
       "    <tr>\n",
       "      <th>3</th>\n",
       "      <td>Bronx</td>\n",
       "      <td>2</td>\n",
       "      <td>1</td>\n",
       "      <td>NaN</td>\n",
       "      <td>131.22</td>\n",
       "      <td>2017 / 09</td>\n",
       "      <td>105.14</td>\n",
       "      <td>1870.63</td>\n",
       "      <td>NaN</td>\n",
       "      <td>NaN</td>\n",
       "      <td>NaN</td>\n",
       "    </tr>\n",
       "    <tr>\n",
       "      <th>4</th>\n",
       "      <td>Queens</td>\n",
       "      <td>4</td>\n",
       "      <td>6</td>\n",
       "      <td>NaN</td>\n",
       "      <td>367.11</td>\n",
       "      <td>2018 / 08</td>\n",
       "      <td>438.97</td>\n",
       "      <td>2951.58</td>\n",
       "      <td>NaN</td>\n",
       "      <td>NaN</td>\n",
       "      <td>NaN</td>\n",
       "    </tr>\n",
       "    <tr>\n",
       "      <th>5</th>\n",
       "      <td>Brooklyn</td>\n",
       "      <td>3</td>\n",
       "      <td>9</td>\n",
       "      <td>NaN</td>\n",
       "      <td>214.42</td>\n",
       "      <td>2018 / 07</td>\n",
       "      <td>235.52</td>\n",
       "      <td>2996.15</td>\n",
       "      <td>NaN</td>\n",
       "      <td>NaN</td>\n",
       "      <td>NaN</td>\n",
       "    </tr>\n",
       "    <tr>\n",
       "      <th>6</th>\n",
       "      <td>Manhattan</td>\n",
       "      <td>1</td>\n",
       "      <td>12</td>\n",
       "      <td>NaN</td>\n",
       "      <td>499.46</td>\n",
       "      <td>2017 / 12</td>\n",
       "      <td>494.35</td>\n",
       "      <td>4748.06</td>\n",
       "      <td>NaN</td>\n",
       "      <td>39.07</td>\n",
       "      <td>NaN</td>\n",
       "    </tr>\n",
       "    <tr>\n",
       "      <th>7</th>\n",
       "      <td>Staten Island</td>\n",
       "      <td>5</td>\n",
       "      <td>3</td>\n",
       "      <td>NaN</td>\n",
       "      <td>757.62</td>\n",
       "      <td>2018 / 08</td>\n",
       "      <td>796.56</td>\n",
       "      <td>6118.22</td>\n",
       "      <td>NaN</td>\n",
       "      <td>NaN</td>\n",
       "      <td>NaN</td>\n",
       "    </tr>\n",
       "  </tbody>\n",
       "</table>\n",
       "</div>"
      ],
      "text/plain": [
       "         borough  borough_id  communitydistrict  leavesorganictons  \\\n",
       "0         Queens           4                  4               5.07   \n",
       "1         Queens           4                 11                NaN   \n",
       "2         Queens           4                  7                NaN   \n",
       "3          Bronx           2                  1                NaN   \n",
       "4         Queens           4                  6                NaN   \n",
       "5       Brooklyn           3                  9                NaN   \n",
       "6      Manhattan           1                 12                NaN   \n",
       "7  Staten Island           5                  3                NaN   \n",
       "\n",
       "   mgptonscollected      month  papertonscollected  refusetonscollected  \\\n",
       "0            394.00  2017 / 11              349.78              3997.15   \n",
       "1            396.53  2017 / 10              483.03              2691.88   \n",
       "2            694.62  2017 / 08              808.68              7058.92   \n",
       "3            131.22  2017 / 09              105.14              1870.63   \n",
       "4            367.11  2018 / 08              438.97              2951.58   \n",
       "5            214.42  2018 / 07              235.52              2996.15   \n",
       "6            499.46  2017 / 12              494.35              4748.06   \n",
       "7            757.62  2018 / 08              796.56              6118.22   \n",
       "\n",
       "   resorganicstons  schoolorganictons  xmastreetons  \n",
       "0              NaN                NaN           NaN  \n",
       "1           236.41                NaN           NaN  \n",
       "2              NaN                NaN           NaN  \n",
       "3              NaN                NaN           NaN  \n",
       "4              NaN                NaN           NaN  \n",
       "5              NaN                NaN           NaN  \n",
       "6              NaN              39.07           NaN  \n",
       "7              NaN                NaN           NaN  "
      ]
     },
     "execution_count": 12,
     "metadata": {},
     "output_type": "execute_result"
    }
   ],
   "source": [
    "# showing first 8 lines of table\n",
    "soda_garbage.head(8)"
   ]
  },
  {
   "cell_type": "markdown",
   "metadata": {},
   "source": [
    "#### Here I drop all but the month, refuse tonnage, and recyclables tonnage variables"
   ]
  },
  {
   "cell_type": "code",
   "execution_count": 13,
   "metadata": {},
   "outputs": [],
   "source": [
    "soda_garbage = soda_garbage.drop(soda_garbage.columns[[1, 2, 3, 6, 8, 9, 10]], axis = 1)"
   ]
  },
  {
   "cell_type": "markdown",
   "metadata": {},
   "source": [
    "#### Here I aggregate tonnage data by grouping all community districts by month for a less cluttered plot"
   ]
  },
  {
   "cell_type": "code",
   "execution_count": 14,
   "metadata": {},
   "outputs": [],
   "source": [
    "soda_garbage = soda_garbage.groupby(['month']).sum()[['mgptonscollected', 'refusetonscollected']].reset_index()"
   ]
  },
  {
   "cell_type": "code",
   "execution_count": 15,
   "metadata": {},
   "outputs": [
    {
     "data": {
      "text/html": [
       "<div>\n",
       "<table border=\"1\" class=\"dataframe\">\n",
       "  <thead>\n",
       "    <tr style=\"text-align: right;\">\n",
       "      <th></th>\n",
       "      <th>month</th>\n",
       "      <th>mgptonscollected</th>\n",
       "      <th>refusetonscollected</th>\n",
       "    </tr>\n",
       "  </thead>\n",
       "  <tbody>\n",
       "    <tr>\n",
       "      <th>0</th>\n",
       "      <td>2017 / 08</td>\n",
       "      <td>24698.48</td>\n",
       "      <td>218232.11</td>\n",
       "    </tr>\n",
       "    <tr>\n",
       "      <th>1</th>\n",
       "      <td>2017 / 09</td>\n",
       "      <td>23633.04</td>\n",
       "      <td>210634.84</td>\n",
       "    </tr>\n",
       "    <tr>\n",
       "      <th>2</th>\n",
       "      <td>2017 / 10</td>\n",
       "      <td>22866.86</td>\n",
       "      <td>210559.10</td>\n",
       "    </tr>\n",
       "    <tr>\n",
       "      <th>3</th>\n",
       "      <td>2017 / 11</td>\n",
       "      <td>23748.28</td>\n",
       "      <td>211434.82</td>\n",
       "    </tr>\n",
       "    <tr>\n",
       "      <th>4</th>\n",
       "      <td>2017 / 12</td>\n",
       "      <td>23974.60</td>\n",
       "      <td>199635.98</td>\n",
       "    </tr>\n",
       "  </tbody>\n",
       "</table>\n",
       "</div>"
      ],
      "text/plain": [
       "       month  mgptonscollected  refusetonscollected\n",
       "0  2017 / 08          24698.48            218232.11\n",
       "1  2017 / 09          23633.04            210634.84\n",
       "2  2017 / 10          22866.86            210559.10\n",
       "3  2017 / 11          23748.28            211434.82\n",
       "4  2017 / 12          23974.60            199635.98"
      ]
     },
     "execution_count": 15,
     "metadata": {},
     "output_type": "execute_result"
    }
   ],
   "source": [
    "soda_garbage.head()"
   ]
  },
  {
   "cell_type": "markdown",
   "metadata": {},
   "source": [
    "#### Here I plot refuse and recyclable tonnage amounts "
   ]
  },
  {
   "cell_type": "code",
   "execution_count": 18,
   "metadata": {},
   "outputs": [
    {
     "data": {
      "text/plain": [
       "<matplotlib.axes._subplots.AxesSubplot at 0x7f8d8e1f5860>"
      ]
     },
     "execution_count": 18,
     "metadata": {},
     "output_type": "execute_result"
    },
    {
     "data": {
      "image/png": "[encoded data removed]",
      "text/plain": [
       "<matplotlib.figure.Figure at 0x7f8d8965bbe0>"
      ]
     },
     "metadata": {},
     "output_type": "display_data"
    }
   ],
   "source": [
    "ax1 = soda_garbage.plot(legend = False)\n",
    "ax1.set(ylabel = 'refuse and recyclables tonnage', title = 'Fig. 1: monthly recyclcables and refuse tonnage \\n for NYC community districts from 8/2017 to 9/2018')\n",
    "soda_garbage.plot('month', ax = ax1, figsize = (16, 8))"
   ]
  },
  {
   "cell_type": "raw",
   "metadata": {},
   "source": [
    "Fig. 2: Number of tons of source-separated recyclables and number of tons of refuse collected monthly as a function of time from August 2017 to September 2018. The data show higher stability in the recyclable tonnage amounts than refuse tonnage amounts. Both refuse and recyclable tonnage amounts show a marked drop from August 2018 to September 2018, and there is lower tonnage of both refuse and recyclables collected in the winter months."
   ]
  },
  {
   "cell_type": "code",
   "execution_count": null,
   "metadata": {},
   "outputs": [],
   "source": []
  }
 ],
 "metadata": {
  "kernelspec": {
   "display_name": "PUI2016_Python3",
   "language": "python",
   "name": "pui2016_python3"
  },
  "language_info": {
   "codemirror_mode": {
    "name": "ipython",
    "version": 3
   },
   "file_extension": ".py",
   "mimetype": "text/x-python",
   "name": "python",
   "nbconvert_exporter": "python",
   "pygments_lexer": "ipython3",
   "version": "3.5.4"
  }
 },
 "nbformat": 4,
 "nbformat_minor": 2
}
