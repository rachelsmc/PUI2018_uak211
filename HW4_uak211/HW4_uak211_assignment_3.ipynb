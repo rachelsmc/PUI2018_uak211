{
 "cells": [
  {
   "cell_type": "markdown",
   "metadata": {},
   "source": [
    "#### Assignment 3: formulate hypotheses and calculate the z-score for the alternative bus route times "
   ]
  },
  {
   "cell_type": "code",
   "execution_count": 1,
   "metadata": {},
   "outputs": [],
   "source": [
    "from __future__  import print_function, division\n",
    "__author__ = 'uak211'\n",
    "import pandas as pd\n",
    "import numpy as np"
   ]
  },
  {
   "cell_type": "code",
   "execution_count": 2,
   "metadata": {},
   "outputs": [],
   "source": [
    "# read in times as an array\n",
    "alt_times = pd.read_table('https://raw.githubusercontent.com/fedhere/PUI2018_fb55/master/Lab4_fb55/times.txt',\n",
    "                 sep = '\\n', header = None).values.squeeze()"
   ]
  },
  {
   "cell_type": "markdown",
   "metadata": {},
   "source": [
    "#### Idea\n",
    "The alternative route improves average trip length over the regular route\n",
    "\n",
    "#### Hypotheses\n",
    "\n",
    "$H_0$: the average commute time is the same or longer with the new bus route as it was before\n",
    "\n",
    "$H_1$: the average commute time with the alternative bus route is shorter \n",
    "\n",
    "#### Formulae:\n",
    "$H_0:\\overline{T}_{\\mathrm{regular}} <= \\overline{T}_{\\mathrm{alternative}}$\n",
    "\n",
    "$H_1: \\overline{T}_{\\mathrm{regular}} > \\overline{T}_{\\mathrm{alternative}}$\n",
    "\n",
    "statistical significance level: $\\alpha=0.05$"
   ]
  },
  {
   "cell_type": "markdown",
   "metadata": {},
   "source": [
    "#### parameters of distribution of regular and alternative bus route times "
   ]
  },
  {
   "cell_type": "code",
   "execution_count": 3,
   "metadata": {},
   "outputs": [],
   "source": [
    "mu = 36.0\n",
    "sigma = 6.0\n",
    "alt_mu = alt_times.mean()\n",
    "alt_sigma = alt_times.std()"
   ]
  },
  {
   "cell_type": "code",
   "execution_count": 4,
   "metadata": {},
   "outputs": [
    {
     "name": "stdout",
     "output_type": "stream",
     "text": [
      "regular times mean: 36.00\n",
      "regular times standard deviation: 6.00\n",
      "alternative times mean: 34.47\n",
      "alternative times standard deviation: 7.10\n"
     ]
    }
   ],
   "source": [
    "print('regular times mean: {:.2f}'.format(mu))\n",
    "print('regular times standard deviation: {:.2f}'.format(sigma))\n",
    "print('alternative times mean: {:.2f}'.format(alt_mu))\n",
    "print('alternative times standard deviation: {:.2f}'.format(alt_sigma))"
   ]
  },
  {
   "cell_type": "markdown",
   "metadata": {},
   "source": [
    "#### calculate z-score\n",
    "$z = \\mu_{reg} - \\mu_{alt} \\Big/ \\sigma_{reg} \\small/ \\sqrt[]n_{alt}$"
   ]
  },
  {
   "cell_type": "code",
   "execution_count": 5,
   "metadata": {},
   "outputs": [],
   "source": [
    "z_score = (mu - alt_mu) / (sigma / np.sqrt(len(alt_times)))"
   ]
  },
  {
   "cell_type": "code",
   "execution_count": 8,
   "metadata": {},
   "outputs": [
    {
     "name": "stdout",
     "output_type": "stream",
     "text": [
      "with a z score of 2.556, which is greater than two standard deviations from the regular times distribution mean, we can reject the null hypothesis\n"
     ]
    }
   ],
   "source": [
    "print('with a z score of {:.3f}, which is greater than two standard deviations from the regular times \\\n",
    "distribution mean, we can reject the null hypothesis'.format(z_score))"
   ]
  },
  {
   "cell_type": "code",
   "execution_count": null,
   "metadata": {},
   "outputs": [],
   "source": []
  }
 ],
 "metadata": {
  "kernelspec": {
   "display_name": "Python 3",
   "language": "python",
   "name": "python3"
  },
  "language_info": {
   "codemirror_mode": {
    "name": "ipython",
    "version": 3
   },
   "file_extension": ".py",
   "mimetype": "text/x-python",
   "name": "python",
   "nbconvert_exporter": "python",
   "pygments_lexer": "ipython3",
   "version": "3.6.4"
  }
 },
 "nbformat": 4,
 "nbformat_minor": 2
}
